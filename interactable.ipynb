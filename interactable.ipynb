{
 "cells": [
  {
   "cell_type": "code",
   "execution_count": 1,
   "metadata": {},
   "outputs": [
    {
     "data": {
      "application/vnd.jupyter.widget-view+json": {
       "model_id": "4cc413d0c8f64ae2b0ba3d258a253a7f",
       "version_major": 2,
       "version_minor": 0
      },
      "text/plain": [
       "interactive(children=(FloatSlider(value=1.0, description='a', max=10.0, min=0.1), IntSlider(value=-1, descript…"
      ]
     },
     "metadata": {},
     "output_type": "display_data"
    },
    {
     "data": {
      "text/plain": [
       "<function __main__.ion_channel_interactive(a, closed_0, closed_1, opened_0, opened_1, D, delta_t, records, model_force, random_force)>"
      ]
     },
     "execution_count": 1,
     "metadata": {},
     "output_type": "execute_result"
    }
   ],
   "source": [
    "from monostable_model import ion_channel_model, model_force_square, random_force_gauss, random_force_levy\n",
    "from ipywidgets import interact, FloatSlider, IntSlider, Dropdown, SelectionSlider\n",
    "\n",
    "\n",
    "def ion_channel_interactive(\n",
    "    a, closed_0, closed_1, opened_0, opened_1, D, delta_t, records, model_force, random_force\n",
    "):\n",
    "    closed = (closed_0, closed_1)\n",
    "    opened = (opened_0, opened_1)\n",
    "    ion_channel_model(a, closed, opened, D, delta_t, records, model_force, random_force)\n",
    "\n",
    "# Interact with the function\n",
    "interact(\n",
    "    ion_channel_interactive,\n",
    "    a=FloatSlider(min=0.1, max=10.0, step=0.1, value=1, description='a'),\n",
    "    closed_0=IntSlider(min=-10, max=10, step=1, value=-1, description='Closed value'),\n",
    "    closed_1=IntSlider(min=1000, max=10000, step=500, value=5000, description='Closed time scale'),\n",
    "    opened_0=IntSlider(min=-10, max=10, step=1, value=1, description='Opened value'),\n",
    "    opened_1=IntSlider(min=1000, max=10000, step=500, value=2500, description='Opened time scale'),\n",
    "    D=FloatSlider(min=0.1, max=2.0, step=0.1, value=0.5, description='D'),\n",
    "    delta_t=SelectionSlider(\n",
    "        options=[10**-i for i in range(1, 5)],\n",
    "        value=0.01,\n",
    "        description='Delta t',\n",
    "    ),\n",
    "    records=IntSlider(min=1000, max=100000, step=1000, value=50000, description='Records'),\n",
    "    model_force=Dropdown(\n",
    "        options={'Square Force': model_force_square, 'Other Force': lambda x: x**2},\n",
    "        value=model_force_square,\n",
    "        description='Model Force',\n",
    "    ),\n",
    "    random_force=Dropdown(\n",
    "        options={'Gauss Force': random_force_gauss, 'Levy Force': random_force_levy},\n",
    "        value=random_force_gauss,\n",
    "        description='Random Force',\n",
    "    ),\n",
    ")"
   ]
  },
  {
   "cell_type": "code",
   "execution_count": 111,
   "metadata": {},
   "outputs": [
    {
     "ename": "KeyboardInterrupt",
     "evalue": "",
     "output_type": "error",
     "traceback": [
      "\u001b[0;31m---------------------------------------------------------------------------\u001b[0m",
      "\u001b[0;31mKeyboardInterrupt\u001b[0m                         Traceback (most recent call last)",
      "Cell \u001b[0;32mIn[111], line 20\u001b[0m\n\u001b[1;32m     17\u001b[0m np\u001b[38;5;241m.\u001b[39mallclose([\u001b[38;5;241m0.001\u001b[39m, \u001b[38;5;241m0.5\u001b[39m, \u001b[38;5;241m0.999\u001b[39m], levy_stable\u001b[38;5;241m.\u001b[39mcdf(vals, alpha, beta, loc\u001b[38;5;241m=\u001b[39mloc, scale\u001b[38;5;241m=\u001b[39mscale))\n\u001b[1;32m     19\u001b[0m r \u001b[38;5;241m=\u001b[39m levy_stable\u001b[38;5;241m.\u001b[39mrvs(alpha, beta, loc\u001b[38;5;241m=\u001b[39mloc, scale\u001b[38;5;241m=\u001b[39mscale, size\u001b[38;5;241m=\u001b[39m\u001b[38;5;241m1000\u001b[39m)\n\u001b[0;32m---> 20\u001b[0m \u001b[43max\u001b[49m\u001b[38;5;241;43m.\u001b[39;49m\u001b[43mhist\u001b[49m\u001b[43m(\u001b[49m\u001b[43mr\u001b[49m\u001b[43m,\u001b[49m\u001b[43m \u001b[49m\u001b[43mdensity\u001b[49m\u001b[38;5;241;43m=\u001b[39;49m\u001b[38;5;28;43;01mTrue\u001b[39;49;00m\u001b[43m,\u001b[49m\u001b[43m \u001b[49m\u001b[43mbins\u001b[49m\u001b[38;5;241;43m=\u001b[39;49m\u001b[38;5;124;43m\"\u001b[39;49m\u001b[38;5;124;43mauto\u001b[39;49m\u001b[38;5;124;43m\"\u001b[39;49m\u001b[43m,\u001b[49m\u001b[43m \u001b[49m\u001b[43mhisttype\u001b[49m\u001b[38;5;241;43m=\u001b[39;49m\u001b[38;5;124;43m'\u001b[39;49m\u001b[38;5;124;43mstepfilled\u001b[39;49m\u001b[38;5;124;43m'\u001b[39;49m\u001b[43m,\u001b[49m\u001b[43m \u001b[49m\u001b[43malpha\u001b[49m\u001b[38;5;241;43m=\u001b[39;49m\u001b[38;5;241;43m0.2\u001b[39;49m\u001b[43m)\u001b[49m\n\u001b[1;32m     21\u001b[0m ax\u001b[38;5;241m.\u001b[39mset_xlim([x[\u001b[38;5;241m0\u001b[39m], x[\u001b[38;5;241m-\u001b[39m\u001b[38;5;241m1\u001b[39m]])\n\u001b[1;32m     22\u001b[0m ax\u001b[38;5;241m.\u001b[39mlegend(loc\u001b[38;5;241m=\u001b[39m\u001b[38;5;124m'\u001b[39m\u001b[38;5;124mbest\u001b[39m\u001b[38;5;124m'\u001b[39m, frameon\u001b[38;5;241m=\u001b[39m\u001b[38;5;28;01mFalse\u001b[39;00m)\n",
      "File \u001b[0;32m~/.local/lib/python3.13/site-packages/matplotlib/__init__.py:1476\u001b[0m, in \u001b[0;36m_preprocess_data.<locals>.inner\u001b[0;34m(ax, data, *args, **kwargs)\u001b[0m\n\u001b[1;32m   1473\u001b[0m \u001b[38;5;129m@functools\u001b[39m\u001b[38;5;241m.\u001b[39mwraps(func)\n\u001b[1;32m   1474\u001b[0m \u001b[38;5;28;01mdef\u001b[39;00m \u001b[38;5;21minner\u001b[39m(ax, \u001b[38;5;241m*\u001b[39margs, data\u001b[38;5;241m=\u001b[39m\u001b[38;5;28;01mNone\u001b[39;00m, \u001b[38;5;241m*\u001b[39m\u001b[38;5;241m*\u001b[39mkwargs):\n\u001b[1;32m   1475\u001b[0m     \u001b[38;5;28;01mif\u001b[39;00m data \u001b[38;5;129;01mis\u001b[39;00m \u001b[38;5;28;01mNone\u001b[39;00m:\n\u001b[0;32m-> 1476\u001b[0m         \u001b[38;5;28;01mreturn\u001b[39;00m \u001b[43mfunc\u001b[49m\u001b[43m(\u001b[49m\n\u001b[1;32m   1477\u001b[0m \u001b[43m            \u001b[49m\u001b[43max\u001b[49m\u001b[43m,\u001b[49m\n\u001b[1;32m   1478\u001b[0m \u001b[43m            \u001b[49m\u001b[38;5;241;43m*\u001b[39;49m\u001b[38;5;28;43mmap\u001b[39;49m\u001b[43m(\u001b[49m\u001b[43msanitize_sequence\u001b[49m\u001b[43m,\u001b[49m\u001b[43m \u001b[49m\u001b[43margs\u001b[49m\u001b[43m)\u001b[49m\u001b[43m,\u001b[49m\n\u001b[1;32m   1479\u001b[0m \u001b[43m            \u001b[49m\u001b[38;5;241;43m*\u001b[39;49m\u001b[38;5;241;43m*\u001b[39;49m\u001b[43m{\u001b[49m\u001b[43mk\u001b[49m\u001b[43m:\u001b[49m\u001b[43m \u001b[49m\u001b[43msanitize_sequence\u001b[49m\u001b[43m(\u001b[49m\u001b[43mv\u001b[49m\u001b[43m)\u001b[49m\u001b[43m \u001b[49m\u001b[38;5;28;43;01mfor\u001b[39;49;00m\u001b[43m \u001b[49m\u001b[43mk\u001b[49m\u001b[43m,\u001b[49m\u001b[43m \u001b[49m\u001b[43mv\u001b[49m\u001b[43m \u001b[49m\u001b[38;5;129;43;01min\u001b[39;49;00m\u001b[43m \u001b[49m\u001b[43mkwargs\u001b[49m\u001b[38;5;241;43m.\u001b[39;49m\u001b[43mitems\u001b[49m\u001b[43m(\u001b[49m\u001b[43m)\u001b[49m\u001b[43m}\u001b[49m\u001b[43m)\u001b[49m\n\u001b[1;32m   1481\u001b[0m     bound \u001b[38;5;241m=\u001b[39m new_sig\u001b[38;5;241m.\u001b[39mbind(ax, \u001b[38;5;241m*\u001b[39margs, \u001b[38;5;241m*\u001b[39m\u001b[38;5;241m*\u001b[39mkwargs)\n\u001b[1;32m   1482\u001b[0m     auto_label \u001b[38;5;241m=\u001b[39m (bound\u001b[38;5;241m.\u001b[39marguments\u001b[38;5;241m.\u001b[39mget(label_namer)\n\u001b[1;32m   1483\u001b[0m                   \u001b[38;5;129;01mor\u001b[39;00m bound\u001b[38;5;241m.\u001b[39mkwargs\u001b[38;5;241m.\u001b[39mget(label_namer))\n",
      "File \u001b[0;32m~/.local/lib/python3.13/site-packages/matplotlib/axes/_axes.py:7131\u001b[0m, in \u001b[0;36mAxes.hist\u001b[0;34m(self, x, bins, range, density, weights, cumulative, bottom, histtype, align, orientation, rwidth, log, color, label, stacked, **kwargs)\u001b[0m\n\u001b[1;32m   7127\u001b[0m \u001b[38;5;66;03m# add patches in reverse order so that when stacking,\u001b[39;00m\n\u001b[1;32m   7128\u001b[0m \u001b[38;5;66;03m# items lower in the stack are plotted on top of\u001b[39;00m\n\u001b[1;32m   7129\u001b[0m \u001b[38;5;66;03m# items higher in the stack\u001b[39;00m\n\u001b[1;32m   7130\u001b[0m \u001b[38;5;28;01mfor\u001b[39;00m x, y, color \u001b[38;5;129;01min\u001b[39;00m \u001b[38;5;28mreversed\u001b[39m(\u001b[38;5;28mlist\u001b[39m(\u001b[38;5;28mzip\u001b[39m(xvals, yvals, colors))):\n\u001b[0;32m-> 7131\u001b[0m     patches\u001b[38;5;241m.\u001b[39mappend(\u001b[38;5;28;43mself\u001b[39;49m\u001b[38;5;241;43m.\u001b[39;49m\u001b[43mfill\u001b[49m\u001b[43m(\u001b[49m\n\u001b[1;32m   7132\u001b[0m \u001b[43m        \u001b[49m\u001b[43mx\u001b[49m\u001b[43m[\u001b[49m\u001b[43m:\u001b[49m\u001b[43msplit\u001b[49m\u001b[43m]\u001b[49m\u001b[43m,\u001b[49m\u001b[43m \u001b[49m\u001b[43my\u001b[49m\u001b[43m[\u001b[49m\u001b[43m:\u001b[49m\u001b[43msplit\u001b[49m\u001b[43m]\u001b[49m\u001b[43m,\u001b[49m\n\u001b[1;32m   7133\u001b[0m \u001b[43m        \u001b[49m\u001b[43mclosed\u001b[49m\u001b[38;5;241;43m=\u001b[39;49m\u001b[38;5;28;43;01mTrue\u001b[39;49;00m\u001b[43m \u001b[49m\u001b[38;5;28;43;01mif\u001b[39;49;00m\u001b[43m \u001b[49m\u001b[43mfill\u001b[49m\u001b[43m \u001b[49m\u001b[38;5;28;43;01melse\u001b[39;49;00m\u001b[43m \u001b[49m\u001b[38;5;28;43;01mNone\u001b[39;49;00m\u001b[43m,\u001b[49m\n\u001b[1;32m   7134\u001b[0m \u001b[43m        \u001b[49m\u001b[43mfacecolor\u001b[49m\u001b[38;5;241;43m=\u001b[39;49m\u001b[43mcolor\u001b[49m\u001b[43m,\u001b[49m\n\u001b[1;32m   7135\u001b[0m \u001b[43m        \u001b[49m\u001b[43medgecolor\u001b[49m\u001b[38;5;241;43m=\u001b[39;49m\u001b[38;5;28;43;01mNone\u001b[39;49;00m\u001b[43m \u001b[49m\u001b[38;5;28;43;01mif\u001b[39;49;00m\u001b[43m \u001b[49m\u001b[43mfill\u001b[49m\u001b[43m \u001b[49m\u001b[38;5;28;43;01melse\u001b[39;49;00m\u001b[43m \u001b[49m\u001b[43mcolor\u001b[49m\u001b[43m,\u001b[49m\n\u001b[1;32m   7136\u001b[0m \u001b[43m        \u001b[49m\u001b[43mfill\u001b[49m\u001b[38;5;241;43m=\u001b[39;49m\u001b[43mfill\u001b[49m\u001b[43m \u001b[49m\u001b[38;5;28;43;01mif\u001b[39;49;00m\u001b[43m \u001b[49m\u001b[43mfill\u001b[49m\u001b[43m \u001b[49m\u001b[38;5;28;43;01melse\u001b[39;49;00m\u001b[43m \u001b[49m\u001b[38;5;28;43;01mNone\u001b[39;49;00m\u001b[43m,\u001b[49m\n\u001b[1;32m   7137\u001b[0m \u001b[43m        \u001b[49m\u001b[43mzorder\u001b[49m\u001b[38;5;241;43m=\u001b[39;49m\u001b[38;5;28;43;01mNone\u001b[39;49;00m\u001b[43m \u001b[49m\u001b[38;5;28;43;01mif\u001b[39;49;00m\u001b[43m \u001b[49m\u001b[43mfill\u001b[49m\u001b[43m \u001b[49m\u001b[38;5;28;43;01melse\u001b[39;49;00m\u001b[43m \u001b[49m\u001b[43mmlines\u001b[49m\u001b[38;5;241;43m.\u001b[39;49m\u001b[43mLine2D\u001b[49m\u001b[38;5;241;43m.\u001b[39;49m\u001b[43mzorder\u001b[49m\u001b[43m)\u001b[49m)\n\u001b[1;32m   7138\u001b[0m \u001b[38;5;28;01mfor\u001b[39;00m patch_list \u001b[38;5;129;01min\u001b[39;00m patches:\n\u001b[1;32m   7139\u001b[0m     \u001b[38;5;28;01mfor\u001b[39;00m patch \u001b[38;5;129;01min\u001b[39;00m patch_list:\n",
      "File \u001b[0;32m~/.local/lib/python3.13/site-packages/matplotlib/axes/_axes.py:5446\u001b[0m, in \u001b[0;36mAxes.fill\u001b[0;34m(self, data, *args, **kwargs)\u001b[0m\n\u001b[1;32m   5444\u001b[0m patches \u001b[38;5;241m=\u001b[39m [\u001b[38;5;241m*\u001b[39m\u001b[38;5;28mself\u001b[39m\u001b[38;5;241m.\u001b[39m_get_patches_for_fill(\u001b[38;5;28mself\u001b[39m, \u001b[38;5;241m*\u001b[39margs, data\u001b[38;5;241m=\u001b[39mdata, \u001b[38;5;241m*\u001b[39m\u001b[38;5;241m*\u001b[39mkwargs)]\n\u001b[1;32m   5445\u001b[0m \u001b[38;5;28;01mfor\u001b[39;00m poly \u001b[38;5;129;01min\u001b[39;00m patches:\n\u001b[0;32m-> 5446\u001b[0m     \u001b[38;5;28;43mself\u001b[39;49m\u001b[38;5;241;43m.\u001b[39;49m\u001b[43madd_patch\u001b[49m\u001b[43m(\u001b[49m\u001b[43mpoly\u001b[49m\u001b[43m)\u001b[49m\n\u001b[1;32m   5447\u001b[0m \u001b[38;5;28mself\u001b[39m\u001b[38;5;241m.\u001b[39m_request_autoscale_view()\n\u001b[1;32m   5448\u001b[0m \u001b[38;5;28;01mreturn\u001b[39;00m patches\n",
      "File \u001b[0;32m~/.local/lib/python3.13/site-packages/matplotlib/axes/_base.py:2414\u001b[0m, in \u001b[0;36m_AxesBase.add_patch\u001b[0;34m(self, p)\u001b[0m\n\u001b[1;32m   2412\u001b[0m \u001b[38;5;28;01mif\u001b[39;00m p\u001b[38;5;241m.\u001b[39mget_clip_path() \u001b[38;5;129;01mis\u001b[39;00m \u001b[38;5;28;01mNone\u001b[39;00m:\n\u001b[1;32m   2413\u001b[0m     p\u001b[38;5;241m.\u001b[39mset_clip_path(\u001b[38;5;28mself\u001b[39m\u001b[38;5;241m.\u001b[39mpatch)\n\u001b[0;32m-> 2414\u001b[0m \u001b[38;5;28;43mself\u001b[39;49m\u001b[38;5;241;43m.\u001b[39;49m\u001b[43m_update_patch_limits\u001b[49m\u001b[43m(\u001b[49m\u001b[43mp\u001b[49m\u001b[43m)\u001b[49m\n\u001b[1;32m   2415\u001b[0m \u001b[38;5;28mself\u001b[39m\u001b[38;5;241m.\u001b[39m_children\u001b[38;5;241m.\u001b[39mappend(p)\n\u001b[1;32m   2416\u001b[0m p\u001b[38;5;241m.\u001b[39m_remove_method \u001b[38;5;241m=\u001b[39m \u001b[38;5;28mself\u001b[39m\u001b[38;5;241m.\u001b[39m_children\u001b[38;5;241m.\u001b[39mremove\n",
      "File \u001b[0;32m~/.local/lib/python3.13/site-packages/matplotlib/axes/_base.py:2440\u001b[0m, in \u001b[0;36m_AxesBase._update_patch_limits\u001b[0;34m(self, patch)\u001b[0m\n\u001b[1;32m   2438\u001b[0m     _, dzeros \u001b[38;5;241m=\u001b[39m curve\u001b[38;5;241m.\u001b[39maxis_aligned_extrema()\n\u001b[1;32m   2439\u001b[0m     \u001b[38;5;66;03m# Calculate vertices of start, end and any extrema in between\u001b[39;00m\n\u001b[0;32m-> 2440\u001b[0m     vertices\u001b[38;5;241m.\u001b[39mappend(\u001b[43mcurve\u001b[49m\u001b[43m(\u001b[49m\u001b[43m[\u001b[49m\u001b[38;5;241;43m0\u001b[39;49m\u001b[43m,\u001b[49m\u001b[43m \u001b[49m\u001b[38;5;241;43m*\u001b[39;49m\u001b[43mdzeros\u001b[49m\u001b[43m,\u001b[49m\u001b[43m \u001b[49m\u001b[38;5;241;43m1\u001b[39;49m\u001b[43m]\u001b[49m\u001b[43m)\u001b[49m)\n\u001b[1;32m   2442\u001b[0m \u001b[38;5;28;01mif\u001b[39;00m \u001b[38;5;28mlen\u001b[39m(vertices):\n\u001b[1;32m   2443\u001b[0m     vertices \u001b[38;5;241m=\u001b[39m np\u001b[38;5;241m.\u001b[39mvstack(vertices)\n",
      "File \u001b[0;32m~/.local/lib/python3.13/site-packages/matplotlib/bezier.py:223\u001b[0m, in \u001b[0;36mBezierSegment.__call__\u001b[0;34m(self, t)\u001b[0m\n\u001b[1;32m    209\u001b[0m \u001b[38;5;250m\u001b[39m\u001b[38;5;124;03m\"\"\"\u001b[39;00m\n\u001b[1;32m    210\u001b[0m \u001b[38;5;124;03mEvaluate the Bézier curve at point(s) *t* in [0, 1].\u001b[39;00m\n\u001b[1;32m    211\u001b[0m \n\u001b[0;32m   (...)\u001b[0m\n\u001b[1;32m    220\u001b[0m \u001b[38;5;124;03m    Value of the curve for each point in *t*.\u001b[39;00m\n\u001b[1;32m    221\u001b[0m \u001b[38;5;124;03m\"\"\"\u001b[39;00m\n\u001b[1;32m    222\u001b[0m t \u001b[38;5;241m=\u001b[39m np\u001b[38;5;241m.\u001b[39masarray(t)\n\u001b[0;32m--> 223\u001b[0m \u001b[38;5;28;01mreturn\u001b[39;00m (\u001b[43mnp\u001b[49m\u001b[38;5;241;43m.\u001b[39;49m\u001b[43mpower\u001b[49m\u001b[38;5;241;43m.\u001b[39;49m\u001b[43mouter\u001b[49m\u001b[43m(\u001b[49m\u001b[38;5;241;43m1\u001b[39;49m\u001b[43m \u001b[49m\u001b[38;5;241;43m-\u001b[39;49m\u001b[43m \u001b[49m\u001b[43mt\u001b[49m\u001b[43m,\u001b[49m\u001b[43m \u001b[49m\u001b[38;5;28;43mself\u001b[39;49m\u001b[38;5;241;43m.\u001b[39;49m\u001b[43m_orders\u001b[49m\u001b[43m[\u001b[49m\u001b[43m:\u001b[49m\u001b[43m:\u001b[49m\u001b[38;5;241;43m-\u001b[39;49m\u001b[38;5;241;43m1\u001b[39;49m\u001b[43m]\u001b[49m\u001b[43m)\u001b[49m\n\u001b[1;32m    224\u001b[0m         \u001b[38;5;241m*\u001b[39m np\u001b[38;5;241m.\u001b[39mpower\u001b[38;5;241m.\u001b[39mouter(t, \u001b[38;5;28mself\u001b[39m\u001b[38;5;241m.\u001b[39m_orders)) \u001b[38;5;241m@\u001b[39m \u001b[38;5;28mself\u001b[39m\u001b[38;5;241m.\u001b[39m_px\n",
      "\u001b[0;31mKeyboardInterrupt\u001b[0m: "
     ]
    },
    {
     "data": {
      "image/png": "[encoded data removed]",
      "text/plain": [
       "<Figure size 640x480 with 1 Axes>"
      ]
     },
     "metadata": {},
     "output_type": "display_data"
    }
   ],
   "source": [
    "import numpy as np\n",
    "from scipy.stats import levy_stable\n",
    "import matplotlib.pyplot as plt\n",
    "fig, ax = plt.subplots(1, 1)\n",
    "\n",
    "alpha, beta = 0.5, 0\n",
    "loc, scale = 0, 1\n",
    "x = np.linspace(levy_stable.ppf(0.01, alpha, beta, loc=loc, scale=scale),\n",
    "                levy_stable.ppf(0.99, alpha, beta, loc=loc, scale=scale), 100)\n",
    "ax.plot(x, levy_stable.pdf(x, alpha, beta, loc=loc, scale=scale),\n",
    "       'r-', lw=5, alpha=0.6, label='levy_stable pdf')\n",
    "\n",
    "rv = levy_stable(alpha, beta, loc=loc, scale=scale)\n",
    "ax.plot(x, rv.pdf(x), 'k-', lw=2, label='frozen pdf')\n",
    "\n",
    "vals = levy_stable.ppf([0.001, 0.5, 0.999], alpha, beta, loc=loc, scale=scale)\n",
    "np.allclose([0.001, 0.5, 0.999], levy_stable.cdf(vals, alpha, beta, loc=loc, scale=scale))\n",
    "\n",
    "r = levy_stable.rvs(alpha, beta, loc=loc, scale=scale, size=1000)\n",
    "ax.hist(r, density=True, bins=\"auto\", histtype='stepfilled', alpha=0.2)\n",
    "ax.set_xlim([x[0], x[-1]])\n",
    "ax.legend(loc='best', frameon=False)\n",
    "plt.show()"
   ]
  },
  {
   "cell_type": "code",
   "execution_count": 18,
   "metadata": {},
   "outputs": [
    {
     "data": {
      "application/vnd.plotly.v1+json": {
       "config": {
        "plotlyServerURL": "https://plot.ly"
       },
       "data": [
        {
         "mode": "lines",
         "name": "Lévy-stable PDF",
         "type": "scatter",
         "x": [
          -1559.7261037251076,
          -1528.2164854680348,
          -1496.706867210962,
          -1465.1972489538891,
          -1433.6876306968165,
          -1402.1780124397437,
          -1370.668394182671,
          -1339.158775925598,
          -1307.6491576685253,
          -1276.1395394114525,
          -1244.6299211543796,
          -1213.1203028973068,
          -1181.6106846402342,
          -1150.1010663831614,
          -1118.5914481260886,
          -1087.0818298690158,
          -1055.572211611943,
          -1024.0625933548704,
          -992.5529750977975,
          -961.0433568407246,
          -929.5337385836519,
          -898.0241203265791,
          -866.5145020695063,
          -835.0048838124335,
          -803.4952655553608,
          -771.985647298288,
          -740.4760290412152,
          -708.9664107841425,
          -677.4567925270696,
          -645.9471742699968,
          -614.437556012924,
          -582.9279377558513,
          -551.4183194987785,
          -519.9087012417058,
          -488.39908298463297,
          -456.88946472756015,
          -425.37984647048734,
          -393.8702282134145,
          -362.3606099563417,
          -330.8509916992689,
          -299.3413734421963,
          -267.8317551851235,
          -236.32213692805067,
          -204.81251867097785,
          -173.30290041390504,
          -141.79328215683222,
          -110.2836638997594,
          -78.77404564268681,
          -47.264427385614,
          -15.754809128541183,
          15.754809128531633,
          47.26442738560445,
          78.77404564267727,
          110.28366389975008,
          141.79328215682267,
          173.3029004138955,
          204.8125186709683,
          236.32213692804112,
          267.83175518511393,
          299.34137344218675,
          330.85099169925957,
          362.36060995633215,
          393.87022821340497,
          425.3798464704778,
          456.8894647275506,
          488.3990829846232,
          519.908701241696,
          551.4183194987688,
          582.9279377558416,
          614.4375560129145,
          645.9471742699873,
          677.4567925270601,
          708.9664107841329,
          740.4760290412057,
          771.9856472982785,
          803.4952655553514,
          835.0048838124242,
          866.514502069497,
          898.0241203265698,
          929.5337385836422,
          961.043356840715,
          992.5529750977878,
          1024.0625933548606,
          1055.5722116119334,
          1087.0818298690062,
          1118.591448126079,
          1150.1010663831519,
          1181.6106846402247,
          1213.1203028972975,
          1244.6299211543703,
          1276.1395394114431,
          1307.649157668516,
          1339.1587759255888,
          1370.6683941826611,
          1402.178012439734,
          1433.6876306968068,
          1465.1972489538796,
          1496.7068672109524,
          1528.2164854680252,
          1559.7261037250983
         ],
         "y": [
          0.000003173326062916145,
          0.0000032712935015505523,
          0.0000033744149218200474,
          0.0000034830784073187744,
          0.00000359771045999509,
          0.0000037187807550472416,
          0.000003846807607551841,
          0.000003982364276680278,
          0.000004126086259194927,
          0.000004278679755829591,
          0.000004440931533766582,
          0.000004613720457830884,
          0.0000047980310249822486,
          0.000004994969314820795,
          0.000005205781867930112,
          0.000005431878130368577,
          0.000005674857265095555,
          0.000005936540341253851,
          0.0000062190091859692825,
          0.000006524653542655554,
          0.0000068562286553166234,
          0.000007216926033005346,
          0.0000076104610034718095,
          0.000008041181827781506,
          0.000008514206745702345,
          0.000009035597542468431,
          0.000009612581350923293,
          0.000010253836852672428,
          0.000010969867469392687,
          0.000011773493560484426,
          0.000012680509690957228,
          0.000013710574346672096,
          0.000014888432446134061,
          0.000016245623110086943,
          0.000017822909484073173,
          0.00001967380752295784,
          0.000021869830377161844,
          0.00002450848899520717,
          0.000027725868084819773,
          0.000031717089046159973,
          0.000036770978945700025,
          0.00004333169021250272,
          0.000052114736859503484,
          0.00006434162622327023,
          0.000082259043940564,
          0.00011043196026383213,
          0.00015953606044576108,
          0.0002605584038089719,
          0.0005458673552508606,
          0.0025988320071078474,
          0.0025988320071100466,
          0.0005458673552510196,
          0.0002605584038090179,
          0.00015953606044578076,
          0.00011043196026384302,
          0.00008225904394057065,
          0.00006434162622327465,
          0.00005211473685950659,
          0.000043331690212505005,
          0.00003677097894570176,
          0.000031717089046161295,
          0.000027725868084820853,
          0.00002450848899520805,
          0.00002186983037716257,
          0.000019673807522958454,
          0.000017822909484073705,
          0.000016245623110087397,
          0.000014888432446134448,
          0.00001371057434667243,
          0.000012680509690957518,
          0.000011773493560484682,
          0.000010969867469392916,
          0.000010253836852672633,
          0.000009612581350923475,
          0.000009035597542468596,
          0.000008514206745702494,
          0.00000804118182778164,
          0.0000076104610034719315,
          0.000007216926033005457,
          0.000006856228655316731,
          0.000006524653542655653,
          0.000006219009185969373,
          0.000005936540341253935,
          0.000005674857265095631,
          0.000005431878130368648,
          0.000005205781867930178,
          0.000004994969314820857,
          0.000004798031024982307,
          0.000004613720457830936,
          0.000004440931533766631,
          0.000004278679755829638,
          0.0000041260862591949705,
          0.000003982364276680319,
          0.000003846807607551881,
          0.00000371878075504728,
          0.0000035977104599951263,
          0.0000034830784073188087,
          0.0000033744149218200796,
          0.0000032712935015505832,
          0.0000031733260629161733
         ]
        },
        {
         "histnorm": "probability density",
         "name": "Histogram",
         "opacity": 0.6,
         "type": "histogram",
         "x": [
          0.12149970649380237,
          7.319658591688302,
          0.7713975725658622,
          -1.8768050788049664,
          0.264473757073087,
          4.24520565951576,
          14.786818444494292,
          0.03191048742313645,
          -8.856743626776321,
          0.13932668884202712,
          -26.026942857051107,
          -0.3499378921389698,
          0.7812108718122772,
          -0.1962436862792489,
          65.24317732524815,
          0.0375509683702743,
          2.7421733322417463,
          -0.7145674075302588,
          -1.0507498833312772,
          -206.6327946222828,
          -39.13028557771,
          1.2236787921636711,
          -42.31990037400197,
          -1.5422014609887107,
          1.7895982049932837,
          18.030065916415086,
          -0.2077622497402522,
          -0.4693586067445535,
          0.5090285193370825,
          1.054375115900224,
          -0.35536444960841396,
          1.153828304914426,
          0.18736381768521074,
          -0.022858375888311733,
          -11.851036710403427,
          1.1296883235942328,
          -0.03169937969053355,
          0.5837475161871686,
          -0.941648250606901,
          48.596228417749465,
          2.607400733958194,
          12.827032455825128,
          -0.7368089443095404,
          1.2739527664672297,
          47.03250774013681,
          -1.3739243649497421,
          0.450762808256194,
          0.28446503957856534,
          1.525298526254538,
          0.8173959774845503,
          -41.51980832845719,
          -0.3457178495947873,
          -1.9556712413310688,
          1.9825811351105618,
          -0.5806836693667909,
          11.365438480079215,
          0.802754438845763,
          24.416374835709274,
          0.3265377420004027,
          -0.5149847922600631,
          0.5127744660570472,
          0.17857967034641153,
          0.35548576764288053,
          3459.963082372134,
          -0.4580133483191838,
          2.1328973382088363,
          0.36272229600714867,
          5.332259750367327,
          -0.5150711339815591,
          -0.07425151718580708,
          -1.645569233250329,
          8.146976624493393,
          9.64628224218084,
          -0.07523481649292116,
          -1.2260394141340158,
          53.4383612587357,
          -5.117785917806659,
          1127.993333593108,
          2.121275736709175,
          -0.4769092120297736,
          0.16231677431840258,
          3.861018884030763,
          -0.03313192888801531,
          -0.9019923332016883,
          0.2736518580266406,
          -0.33927167007589476,
          0.1600419534084886,
          6.994987957671799,
          -3.1796130653278194,
          -0.005153077845219383,
          0.3763562454667147,
          747.1601199286729,
          -131.2000938200156,
          -1.9931359512424625,
          -3.037626322311842,
          -0.0485733070044888,
          0.11175989200525885,
          0.032890795997449505,
          -11.510734140792435,
          -18.578579711914397
         ]
        }
       ],
       "layout": {
        "legend": {
         "x": 0.02,
         "y": 0.98
        },
        "template": {
         "data": {
          "bar": [
           {
            "error_x": {
             "color": "#f2f5fa"
            },
            "error_y": {
             "color": "#f2f5fa"
            },
            "marker": {
             "line": {
              "color": "rgb(17,17,17)",
              "width": 0.5
             },
             "pattern": {
              "fillmode": "overlay",
              "size": 10,
              "solidity": 0.2
             }
            },
            "type": "bar"
           }
          ],
          "barpolar": [
           {
            "marker": {
             "line": {
              "color": "rgb(17,17,17)",
              "width": 0.5
             },
             "pattern": {
              "fillmode": "overlay",
              "size": 10,
              "solidity": 0.2
             }
            },
            "type": "barpolar"
           }
          ],
          "carpet": [
           {
            "aaxis": {
             "endlinecolor": "#A2B1C6",
             "gridcolor": "#506784",
             "linecolor": "#506784",
             "minorgridcolor": "#506784",
             "startlinecolor": "#A2B1C6"
            },
            "baxis": {
             "endlinecolor": "#A2B1C6",
             "gridcolor": "#506784",
             "linecolor": "#506784",
             "minorgridcolor": "#506784",
             "startlinecolor": "#A2B1C6"
            },
            "type": "carpet"
           }
          ],
          "choropleth": [
           {
            "colorbar": {
             "outlinewidth": 0,
             "ticks": ""
            },
            "type": "choropleth"
           }
          ],
          "contour": [
           {
            "colorbar": {
             "outlinewidth": 0,
             "ticks": ""
            },
            "colorscale": [
             [
              0,
              "#0d0887"
             ],
             [
              0.1111111111111111,
              "#46039f"
             ],
             [
              0.2222222222222222,
              "#7201a8"
             ],
             [
              0.3333333333333333,
              "#9c179e"
             ],
             [
              0.4444444444444444,
              "#bd3786"
             ],
             [
              0.5555555555555556,
              "#d8576b"
             ],
             [
              0.6666666666666666,
              "#ed7953"
             ],
             [
              0.7777777777777778,
              "#fb9f3a"
             ],
             [
              0.8888888888888888,
              "#fdca26"
             ],
             [
              1,
              "#f0f921"
             ]
            ],
            "type": "contour"
           }
          ],
          "contourcarpet": [
           {
            "colorbar": {
             "outlinewidth": 0,
             "ticks": ""
            },
            "type": "contourcarpet"
           }
          ],
          "heatmap": [
           {
            "colorbar": {
             "outlinewidth": 0,
             "ticks": ""
            },
            "colorscale": [
             [
              0,
              "#0d0887"
             ],
             [
              0.1111111111111111,
              "#46039f"
             ],
             [
              0.2222222222222222,
              "#7201a8"
             ],
             [
              0.3333333333333333,
              "#9c179e"
             ],
             [
              0.4444444444444444,
              "#bd3786"
             ],
             [
              0.5555555555555556,
              "#d8576b"
             ],
             [
              0.6666666666666666,
              "#ed7953"
             ],
             [
              0.7777777777777778,
              "#fb9f3a"
             ],
             [
              0.8888888888888888,
              "#fdca26"
             ],
             [
              1,
              "#f0f921"
             ]
            ],
            "type": "heatmap"
           }
          ],
          "heatmapgl": [
           {
            "colorbar": {
             "outlinewidth": 0,
             "ticks": ""
            },
            "colorscale": [
             [
              0,
              "#0d0887"
             ],
             [
              0.1111111111111111,
              "#46039f"
             ],
             [
              0.2222222222222222,
              "#7201a8"
             ],
             [
              0.3333333333333333,
              "#9c179e"
             ],
             [
              0.4444444444444444,
              "#bd3786"
             ],
             [
              0.5555555555555556,
              "#d8576b"
             ],
             [
              0.6666666666666666,
              "#ed7953"
             ],
             [
              0.7777777777777778,
              "#fb9f3a"
             ],
             [
              0.8888888888888888,
              "#fdca26"
             ],
             [
              1,
              "#f0f921"
             ]
            ],
            "type": "heatmapgl"
           }
          ],
          "histogram": [
           {
            "marker": {
             "pattern": {
              "fillmode": "overlay",
              "size": 10,
              "solidity": 0.2
             }
            },
            "type": "histogram"
           }
          ],
          "histogram2d": [
           {
            "colorbar": {
             "outlinewidth": 0,
             "ticks": ""
            },
            "colorscale": [
             [
              0,
              "#0d0887"
             ],
             [
              0.1111111111111111,
              "#46039f"
             ],
             [
              0.2222222222222222,
              "#7201a8"
             ],
             [
              0.3333333333333333,
              "#9c179e"
             ],
             [
              0.4444444444444444,
              "#bd3786"
             ],
             [
              0.5555555555555556,
              "#d8576b"
             ],
             [
              0.6666666666666666,
              "#ed7953"
             ],
             [
              0.7777777777777778,
              "#fb9f3a"
             ],
             [
              0.8888888888888888,
              "#fdca26"
             ],
             [
              1,
              "#f0f921"
             ]
            ],
            "type": "histogram2d"
           }
          ],
          "histogram2dcontour": [
           {
            "colorbar": {
             "outlinewidth": 0,
             "ticks": ""
            },
            "colorscale": [
             [
              0,
              "#0d0887"
             ],
             [
              0.1111111111111111,
              "#46039f"
             ],
             [
              0.2222222222222222,
              "#7201a8"
             ],
             [
              0.3333333333333333,
              "#9c179e"
             ],
             [
              0.4444444444444444,
              "#bd3786"
             ],
             [
              0.5555555555555556,
              "#d8576b"
             ],
             [
              0.6666666666666666,
              "#ed7953"
             ],
             [
              0.7777777777777778,
              "#fb9f3a"
             ],
             [
              0.8888888888888888,
              "#fdca26"
             ],
             [
              1,
              "#f0f921"
             ]
            ],
            "type": "histogram2dcontour"
           }
          ],
          "mesh3d": [
           {
            "colorbar": {
             "outlinewidth": 0,
             "ticks": ""
            },
            "type": "mesh3d"
           }
          ],
          "parcoords": [
           {
            "line": {
             "colorbar": {
              "outlinewidth": 0,
              "ticks": ""
             }
            },
            "type": "parcoords"
           }
          ],
          "pie": [
           {
            "automargin": true,
            "type": "pie"
           }
          ],
          "scatter": [
           {
            "marker": {
             "line": {
              "color": "#283442"
             }
            },
            "type": "scatter"
           }
          ],
          "scatter3d": [
           {
            "line": {
             "colorbar": {
              "outlinewidth": 0,
              "ticks": ""
             }
            },
            "marker": {
             "colorbar": {
              "outlinewidth": 0,
              "ticks": ""
             }
            },
            "type": "scatter3d"
           }
          ],
          "scattercarpet": [
           {
            "marker": {
             "colorbar": {
              "outlinewidth": 0,
              "ticks": ""
             }
            },
            "type": "scattercarpet"
           }
          ],
          "scattergeo": [
           {
            "marker": {
             "colorbar": {
              "outlinewidth": 0,
              "ticks": ""
             }
            },
            "type": "scattergeo"
           }
          ],
          "scattergl": [
           {
            "marker": {
             "line": {
              "color": "#283442"
             }
            },
            "type": "scattergl"
           }
          ],
          "scattermapbox": [
           {
            "marker": {
             "colorbar": {
              "outlinewidth": 0,
              "ticks": ""
             }
            },
            "type": "scattermapbox"
           }
          ],
          "scatterpolar": [
           {
            "marker": {
             "colorbar": {
              "outlinewidth": 0,
              "ticks": ""
             }
            },
            "type": "scatterpolar"
           }
          ],
          "scatterpolargl": [
           {
            "marker": {
             "colorbar": {
              "outlinewidth": 0,
              "ticks": ""
             }
            },
            "type": "scatterpolargl"
           }
          ],
          "scatterternary": [
           {
            "marker": {
             "colorbar": {
              "outlinewidth": 0,
              "ticks": ""
             }
            },
            "type": "scatterternary"
           }
          ],
          "surface": [
           {
            "colorbar": {
             "outlinewidth": 0,
             "ticks": ""
            },
            "colorscale": [
             [
              0,
              "#0d0887"
             ],
             [
              0.1111111111111111,
              "#46039f"
             ],
             [
              0.2222222222222222,
              "#7201a8"
             ],
             [
              0.3333333333333333,
              "#9c179e"
             ],
             [
              0.4444444444444444,
              "#bd3786"
             ],
             [
              0.5555555555555556,
              "#d8576b"
             ],
             [
              0.6666666666666666,
              "#ed7953"
             ],
             [
              0.7777777777777778,
              "#fb9f3a"
             ],
             [
              0.8888888888888888,
              "#fdca26"
             ],
             [
              1,
              "#f0f921"
             ]
            ],
            "type": "surface"
           }
          ],
          "table": [
           {
            "cells": {
             "fill": {
              "color": "#506784"
             },
             "line": {
              "color": "rgb(17,17,17)"
             }
            },
            "header": {
             "fill": {
              "color": "#2a3f5f"
             },
             "line": {
              "color": "rgb(17,17,17)"
             }
            },
            "type": "table"
           }
          ]
         },
         "layout": {
          "annotationdefaults": {
           "arrowcolor": "#f2f5fa",
           "arrowhead": 0,
           "arrowwidth": 1
          },
          "autotypenumbers": "strict",
          "coloraxis": {
           "colorbar": {
            "outlinewidth": 0,
            "ticks": ""
           }
          },
          "colorscale": {
           "diverging": [
            [
             0,
             "#8e0152"
            ],
            [
             0.1,
             "#c51b7d"
            ],
            [
             0.2,
             "#de77ae"
            ],
            [
             0.3,
             "#f1b6da"
            ],
            [
             0.4,
             "#fde0ef"
            ],
            [
             0.5,
             "#f7f7f7"
            ],
            [
             0.6,
             "#e6f5d0"
            ],
            [
             0.7,
             "#b8e186"
            ],
            [
             0.8,
             "#7fbc41"
            ],
            [
             0.9,
             "#4d9221"
            ],
            [
             1,
             "#276419"
            ]
           ],
           "sequential": [
            [
             0,
             "#0d0887"
            ],
            [
             0.1111111111111111,
             "#46039f"
            ],
            [
             0.2222222222222222,
             "#7201a8"
            ],
            [
             0.3333333333333333,
             "#9c179e"
            ],
            [
             0.4444444444444444,
             "#bd3786"
            ],
            [
             0.5555555555555556,
             "#d8576b"
            ],
            [
             0.6666666666666666,
             "#ed7953"
            ],
            [
             0.7777777777777778,
             "#fb9f3a"
            ],
            [
             0.8888888888888888,
             "#fdca26"
            ],
            [
             1,
             "#f0f921"
            ]
           ],
           "sequentialminus": [
            [
             0,
             "#0d0887"
            ],
            [
             0.1111111111111111,
             "#46039f"
            ],
            [
             0.2222222222222222,
             "#7201a8"
            ],
            [
             0.3333333333333333,
             "#9c179e"
            ],
            [
             0.4444444444444444,
             "#bd3786"
            ],
            [
             0.5555555555555556,
             "#d8576b"
            ],
            [
             0.6666666666666666,
             "#ed7953"
            ],
            [
             0.7777777777777778,
             "#fb9f3a"
            ],
            [
             0.8888888888888888,
             "#fdca26"
            ],
            [
             1,
             "#f0f921"
            ]
           ]
          },
          "colorway": [
           "#636efa",
           "#EF553B",
           "#00cc96",
           "#ab63fa",
           "#FFA15A",
           "#19d3f3",
           "#FF6692",
           "#B6E880",
           "#FF97FF",
           "#FECB52"
          ],
          "font": {
           "color": "#f2f5fa"
          },
          "geo": {
           "bgcolor": "rgb(17,17,17)",
           "lakecolor": "rgb(17,17,17)",
           "landcolor": "rgb(17,17,17)",
           "showlakes": true,
           "showland": true,
           "subunitcolor": "#506784"
          },
          "hoverlabel": {
           "align": "left"
          },
          "hovermode": "closest",
          "mapbox": {
           "style": "dark"
          },
          "paper_bgcolor": "rgb(17,17,17)",
          "plot_bgcolor": "rgb(17,17,17)",
          "polar": {
           "angularaxis": {
            "gridcolor": "#506784",
            "linecolor": "#506784",
            "ticks": ""
           },
           "bgcolor": "rgb(17,17,17)",
           "radialaxis": {
            "gridcolor": "#506784",
            "linecolor": "#506784",
            "ticks": ""
           }
          },
          "scene": {
           "xaxis": {
            "backgroundcolor": "rgb(17,17,17)",
            "gridcolor": "#506784",
            "gridwidth": 2,
            "linecolor": "#506784",
            "showbackground": true,
            "ticks": "",
            "zerolinecolor": "#C8D4E3"
           },
           "yaxis": {
            "backgroundcolor": "rgb(17,17,17)",
            "gridcolor": "#506784",
            "gridwidth": 2,
            "linecolor": "#506784",
            "showbackground": true,
            "ticks": "",
            "zerolinecolor": "#C8D4E3"
           },
           "zaxis": {
            "backgroundcolor": "rgb(17,17,17)",
            "gridcolor": "#506784",
            "gridwidth": 2,
            "linecolor": "#506784",
            "showbackground": true,
            "ticks": "",
            "zerolinecolor": "#C8D4E3"
           }
          },
          "shapedefaults": {
           "line": {
            "color": "#f2f5fa"
           }
          },
          "sliderdefaults": {
           "bgcolor": "#C8D4E3",
           "bordercolor": "rgb(17,17,17)",
           "borderwidth": 1,
           "tickwidth": 0
          },
          "ternary": {
           "aaxis": {
            "gridcolor": "#506784",
            "linecolor": "#506784",
            "ticks": ""
           },
           "baxis": {
            "gridcolor": "#506784",
            "linecolor": "#506784",
            "ticks": ""
           },
           "bgcolor": "rgb(17,17,17)",
           "caxis": {
            "gridcolor": "#506784",
            "linecolor": "#506784",
            "ticks": ""
           }
          },
          "title": {
           "x": 0.05
          },
          "updatemenudefaults": {
           "bgcolor": "#506784",
           "borderwidth": 0
          },
          "xaxis": {
           "automargin": true,
           "gridcolor": "#283442",
           "linecolor": "#506784",
           "ticks": "",
           "title": {
            "standoff": 15
           },
           "zerolinecolor": "#283442",
           "zerolinewidth": 2
          },
          "yaxis": {
           "automargin": true,
           "gridcolor": "#283442",
           "linecolor": "#506784",
           "ticks": "",
           "title": {
            "standoff": 15
           },
           "zerolinecolor": "#283442",
           "zerolinewidth": 2
          }
         }
        },
        "title": {
         "text": "Interactive Lévy-Stable Distribution"
        },
        "xaxis": {
         "title": {
          "text": "Value"
         }
        },
        "yaxis": {
         "title": {
          "text": "Density"
         }
        }
       }
      }
     },
     "metadata": {},
     "output_type": "display_data"
    }
   ],
   "source": [
    "import numpy as np\n",
    "import plotly.graph_objects as go\n",
    "from scipy.stats import levy_stable\n",
    "\n",
    "# Parameters\n",
    "alpha, beta = 0.5, 0\n",
    "loc, scale = 0, 1\n",
    "\n",
    "# Generate data for PDF\n",
    "x = np.linspace(levy_stable.ppf(0.01, alpha, beta, loc=loc, scale=scale),\n",
    "                levy_stable.ppf(0.99, alpha, beta, loc=loc, scale=scale), 100)\n",
    "pdf = levy_stable.pdf(x, alpha, beta, loc=loc, scale=scale)\n",
    "\n",
    "# Generate random samples\n",
    "r = levy_stable.rvs(alpha, beta, loc=loc, scale=scale, size=100)\n",
    "\n",
    "# Create the figure\n",
    "fig = go.Figure()\n",
    "\n",
    "# Add PDF curve\n",
    "fig.add_trace(go.Scatter(x=x, y=pdf, mode='lines', name='Lévy-stable PDF'))\n",
    "\n",
    "# Add histogram\n",
    "fig.add_trace(go.Histogram(x=r, histnorm='probability density', opacity=0.6, name='Histogram'))\n",
    "\n",
    "# Customize layout\n",
    "fig.update_layout(\n",
    "    title=\"Interactive Lévy-Stable Distribution\",\n",
    "    xaxis_title=\"Value\",\n",
    "    yaxis_title=\"Density\",\n",
    "    legend=dict(x=0.02, y=0.98),\n",
    "    template=\"plotly_dark\"\n",
    ")\n",
    "\n",
    "# Show interactive plot\n",
    "fig.show()\n"
   ]
  },
  {
   "cell_type": "code",
   "execution_count": 71,
   "metadata": {},
   "outputs": [
    {
     "data": {
      "text/plain": [
       "0.024351238081335862"
      ]
     },
     "execution_count": 71,
     "metadata": {},
     "output_type": "execute_result"
    }
   ],
   "source": [
    "random_force_gauss(0.5, 0.01)"
   ]
  },
  {
   "cell_type": "code",
   "execution_count": 82,
   "metadata": {},
   "outputs": [
    {
     "data": {
      "text/plain": [
       "-0.008447132207085262"
      ]
     },
     "execution_count": 82,
     "metadata": {},
     "output_type": "execute_result"
    }
   ],
   "source": [
    "import importlib\n",
    "import monostable_model\n",
    "importlib.reload(monostable_model)\n",
    "\n",
    "\n",
    "monostable_model.random_force_levy(0.5, 0.01)"
   ]
  },
  {
   "cell_type": "code",
   "execution_count": null,
   "metadata": {},
   "outputs": [],
   "source": []
  },
  {
   "cell_type": "code",
   "execution_count": null,
   "metadata": {},
   "outputs": [],
   "source": []
  }
 ],
 "metadata": {
  "kernelspec": {
   "display_name": "usr",
   "language": "python",
   "name": "python3"
  },
  "language_info": {
   "codemirror_mode": {
    "name": "ipython",
    "version": 3
   },
   "file_extension": ".py",
   "mimetype": "text/x-python",
   "name": "python",
   "nbconvert_exporter": "python",
   "pygments_lexer": "ipython3",
   "version": "3.13.0"
  }
 },
 "nbformat": 4,
 "nbformat_minor": 2
}
