{
 "cells": [
  {
   "cell_type": "code",
   "execution_count": 17,
   "metadata": {},
   "outputs": [
    {
     "data": {
      "application/vnd.jupyter.widget-view+json": {
       "model_id": "84062ad835964385a235242aba269921",
       "version_major": 2,
       "version_minor": 0
      },
      "text/plain": [
       "interactive(children=(FloatSlider(value=1.0, description='a', max=10.0, min=0.1), IntSlider(value=-1, descript…"
      ]
     },
     "metadata": {},
     "output_type": "display_data"
    },
    {
     "data": {
      "text/plain": [
       "<function __main__.ion_channel_interactive(a, closed_0, closed_1, opened_0, opened_1, D, delta_t, records, model_force, random_force)>"
      ]
     },
     "execution_count": 17,
     "metadata": {},
     "output_type": "execute_result"
    }
   ],
   "source": [
    "from monostable_model import ion_channel_model, model_force_square, random_force_gauss\n",
    "from ipywidgets import interact, FloatSlider, IntSlider, Dropdown, fixed, SelectionSlider\n",
    "\n",
    "\n",
    "def ion_channel_interactive(\n",
    "    a, closed_0, closed_1, opened_0, opened_1, D, delta_t, records, model_force, random_force\n",
    "):\n",
    "    closed = (closed_0, closed_1)\n",
    "    opened = (opened_0, opened_1)\n",
    "    ion_channel_model(a, closed, opened, D, delta_t, records, model_force, random_force)\n",
    "\n",
    "# Interact with the function\n",
    "interact(\n",
    "    ion_channel_interactive,\n",
    "    a=FloatSlider(min=0.1, max=10.0, step=0.1, value=1, description='a'),\n",
    "    closed_0=IntSlider(min=-10, max=10, step=1, value=-1, description='Closed value'),\n",
    "    closed_1=IntSlider(min=1000, max=10000, step=500, value=5000, description='Closed time scale'),\n",
    "    opened_0=IntSlider(min=-10, max=10, step=1, value=1, description='Opened value'),\n",
    "    opened_1=IntSlider(min=1000, max=10000, step=500, value=2500, description='Opened time scale'),\n",
    "    D=FloatSlider(min=0.1, max=2.0, step=0.1, value=0.5, description='D'),\n",
    "    delta_t=SelectionSlider(\n",
    "        options=[10**-i for i in range(1, 5)],\n",
    "        value=0.01,\n",
    "        description='Delta t',\n",
    "    ),\n",
    "    records=IntSlider(min=1000, max=100000, step=1000, value=50000, description='Records'),\n",
    "    model_force=Dropdown(\n",
    "        options={'Square Force': model_force_square, 'Other Force': lambda x: x**2},\n",
    "        value=model_force_square,\n",
    "        description='Model Force',\n",
    "    ),\n",
    "    random_force=fixed(random_force_gauss),  # Keep it fixed for simplicity\n",
    ")"
   ]
  },
  {
   "cell_type": "code",
   "execution_count": null,
   "metadata": {},
   "outputs": [],
   "source": []
  }
 ],
 "metadata": {
  "kernelspec": {
   "display_name": "Python 3",
   "language": "python",
   "name": "python3"
  },
  "language_info": {
   "codemirror_mode": {
    "name": "ipython",
    "version": 3
   },
   "file_extension": ".py",
   "mimetype": "text/x-python",
   "name": "python",
   "nbconvert_exporter": "python",
   "pygments_lexer": "ipython3",
   "version": "3.13.0"
  }
 },
 "nbformat": 4,
 "nbformat_minor": 2
}
