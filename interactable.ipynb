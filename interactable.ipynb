{
 "cells": [
  {
   "cell_type": "code",
   "execution_count": 7,
   "metadata": {},
   "outputs": [
    {
     "ename": "TypeError",
     "evalue": "bad operand type for unary -: 'IntSlider'",
     "output_type": "error",
     "traceback": [
      "\u001b[0;31m---------------------------------------------------------------------------\u001b[0m",
      "\u001b[0;31mTypeError\u001b[0m                                 Traceback (most recent call last)",
      "Cell \u001b[0;32mIn[7], line 11\u001b[0m\n\u001b[1;32m      1\u001b[0m \u001b[38;5;28;01mfrom\u001b[39;00m \u001b[38;5;21;01mmonostable_model\u001b[39;00m \u001b[38;5;28;01mimport\u001b[39;00m ion_channel_model, model_force_square, random_force_gauss\n\u001b[1;32m      2\u001b[0m \u001b[38;5;28;01mfrom\u001b[39;00m \u001b[38;5;21;01mipywidgets\u001b[39;00m \u001b[38;5;28;01mimport\u001b[39;00m interact, FloatSlider, IntSlider, Dropdown, fixed\n\u001b[1;32m      5\u001b[0m interact(\n\u001b[1;32m      6\u001b[0m     ion_channel_model,\n\u001b[1;32m      7\u001b[0m     a\u001b[38;5;241m=\u001b[39mFloatSlider(\u001b[38;5;28mmin\u001b[39m\u001b[38;5;241m=\u001b[39m\u001b[38;5;241m0.1\u001b[39m, \u001b[38;5;28mmax\u001b[39m\u001b[38;5;241m=\u001b[39m\u001b[38;5;241m10.0\u001b[39m, step\u001b[38;5;241m=\u001b[39m\u001b[38;5;241m0.1\u001b[39m, value\u001b[38;5;241m=\u001b[39m\u001b[38;5;241m1\u001b[39m, description\u001b[38;5;241m=\u001b[39m\u001b[38;5;124m'\u001b[39m\u001b[38;5;124ma\u001b[39m\u001b[38;5;124m'\u001b[39m),\n\u001b[1;32m      8\u001b[0m     closed\u001b[38;5;241m=\u001b[39mfixed((\u001b[38;5;241m-\u001b[39m\u001b[38;5;241m1\u001b[39m, \u001b[38;5;241m5000\u001b[39m)),  \u001b[38;5;66;03m# Fixed for now; could be customized further\u001b[39;00m\n\u001b[1;32m      9\u001b[0m     opened\u001b[38;5;241m=\u001b[39mfixed((\u001b[38;5;241m1\u001b[39m, \u001b[38;5;241m2500\u001b[39m)),  \u001b[38;5;66;03m# Fixed for now; could be customized further\u001b[39;00m\n\u001b[1;32m     10\u001b[0m     D\u001b[38;5;241m=\u001b[39mFloatSlider(\u001b[38;5;28mmin\u001b[39m\u001b[38;5;241m=\u001b[39m\u001b[38;5;241m0.01\u001b[39m, \u001b[38;5;28mmax\u001b[39m\u001b[38;5;241m=\u001b[39m\u001b[38;5;241m3.0\u001b[39m, step\u001b[38;5;241m=\u001b[39m\u001b[38;5;241m0.01\u001b[39m, value\u001b[38;5;241m=\u001b[39m\u001b[38;5;241m0.5\u001b[39m, description\u001b[38;5;241m=\u001b[39m\u001b[38;5;124m'\u001b[39m\u001b[38;5;124mD\u001b[39m\u001b[38;5;124m'\u001b[39m),\n\u001b[0;32m---> 11\u001b[0m     delta_t\u001b[38;5;241m=\u001b[39m\u001b[38;5;241m10\u001b[39m\u001b[38;5;241m*\u001b[39m\u001b[38;5;241m*\u001b[39m(\u001b[38;5;241;43m-\u001b[39;49m\u001b[43m(\u001b[49m\u001b[43mIntSlider\u001b[49m\u001b[43m(\u001b[49m\u001b[38;5;28;43mmin\u001b[39;49m\u001b[38;5;241;43m=\u001b[39;49m\u001b[38;5;241;43m1\u001b[39;49m\u001b[43m,\u001b[49m\u001b[43m \u001b[49m\u001b[38;5;28;43mmax\u001b[39;49m\u001b[38;5;241;43m=\u001b[39;49m\u001b[38;5;241;43m4\u001b[39;49m\u001b[43m,\u001b[49m\u001b[43m \u001b[49m\u001b[43mstep\u001b[49m\u001b[38;5;241;43m=\u001b[39;49m\u001b[38;5;241;43m1\u001b[39;49m\u001b[43m,\u001b[49m\u001b[43m \u001b[49m\u001b[43mvalue\u001b[49m\u001b[38;5;241;43m=\u001b[39;49m\u001b[38;5;241;43m3\u001b[39;49m\u001b[43m,\u001b[49m\u001b[43m \u001b[49m\u001b[43mdescription\u001b[49m\u001b[38;5;241;43m=\u001b[39;49m\u001b[38;5;124;43m'\u001b[39;49m\u001b[38;5;124;43mdelta = 10^(-x)\u001b[39;49m\u001b[38;5;124;43m'\u001b[39;49m\u001b[43m)\u001b[49m\u001b[43m)\u001b[49m),\n\u001b[1;32m     12\u001b[0m     records\u001b[38;5;241m=\u001b[39mIntSlider(\u001b[38;5;28mmin\u001b[39m\u001b[38;5;241m=\u001b[39m\u001b[38;5;241m1000\u001b[39m, \u001b[38;5;28mmax\u001b[39m\u001b[38;5;241m=\u001b[39m\u001b[38;5;241m100000\u001b[39m, step\u001b[38;5;241m=\u001b[39m\u001b[38;5;241m1000\u001b[39m, value\u001b[38;5;241m=\u001b[39m\u001b[38;5;241m50000\u001b[39m, description\u001b[38;5;241m=\u001b[39m\u001b[38;5;124m'\u001b[39m\u001b[38;5;124mRecords\u001b[39m\u001b[38;5;124m'\u001b[39m),\n\u001b[1;32m     13\u001b[0m     model_force\u001b[38;5;241m=\u001b[39mDropdown(\n\u001b[1;32m     14\u001b[0m         options\u001b[38;5;241m=\u001b[39m{\u001b[38;5;124m'\u001b[39m\u001b[38;5;124mSquare Force\u001b[39m\u001b[38;5;124m'\u001b[39m: model_force_square, \u001b[38;5;124m'\u001b[39m\u001b[38;5;124mOther Force\u001b[39m\u001b[38;5;124m'\u001b[39m: \u001b[38;5;28;01mlambda\u001b[39;00m x: x\u001b[38;5;241m*\u001b[39m\u001b[38;5;241m*\u001b[39m\u001b[38;5;241m2\u001b[39m},\n\u001b[1;32m     15\u001b[0m         value\u001b[38;5;241m=\u001b[39mmodel_force_square,\n\u001b[1;32m     16\u001b[0m         description\u001b[38;5;241m=\u001b[39m\u001b[38;5;124m'\u001b[39m\u001b[38;5;124mModel Force\u001b[39m\u001b[38;5;124m'\u001b[39m,\n\u001b[1;32m     17\u001b[0m     ),\n\u001b[1;32m     18\u001b[0m     random_force\u001b[38;5;241m=\u001b[39mfixed(random_force_gauss),  \u001b[38;5;66;03m# Keep it fixed for simplicity\u001b[39;00m\n\u001b[1;32m     19\u001b[0m )\n",
      "\u001b[0;31mTypeError\u001b[0m: bad operand type for unary -: 'IntSlider'"
     ]
    }
   ],
   "source": [
    "from monostable_model import ion_channel_model, model_force_square, random_force_gauss\n",
    "from ipywidgets import interact, FloatSlider, IntSlider, Dropdown, fixed\n",
    "\n",
    "\n",
    "interact(\n",
    "    ion_channel_model,\n",
    "    a=FloatSlider(min=0.1, max=10.0, step=0.1, value=1, description='a'),\n",
    "    closed=fixed((-1, 5000)),  # Fixed for now; could be customized further\n",
    "    opened=fixed((1, 2500)),  # Fixed for now; could be customized further\n",
    "    D=FloatSlider(min=0.01, max=3.0, step=0.01, value=0.5, description='D'),\n",
    "    delta_t=10**IntSlider(min=1, max=4, step=1, value=3, description='delta = 10^(-x)'),\n",
    "    records=IntSlider(min=1000, max=100000, step=1000, value=50000, description='Records'),\n",
    "    model_force=Dropdown(\n",
    "        options={'Square Force': model_force_square, 'Other Force': lambda x: x**2},\n",
    "        value=model_force_square,\n",
    "        description='Model Force',\n",
    "    ),\n",
    "    random_force=fixed(random_force_gauss),  # Keep it fixed for simplicity\n",
    ")"
   ]
  },
  {
   "cell_type": "code",
   "execution_count": null,
   "metadata": {},
   "outputs": [],
   "source": []
  }
 ],
 "metadata": {
  "kernelspec": {
   "display_name": "Python 3",
   "language": "python",
   "name": "python3"
  },
  "language_info": {
   "codemirror_mode": {
    "name": "ipython",
    "version": 3
   },
   "file_extension": ".py",
   "mimetype": "text/x-python",
   "name": "python",
   "nbconvert_exporter": "python",
   "pygments_lexer": "ipython3",
   "version": "3.13.0"
  }
 },
 "nbformat": 4,
 "nbformat_minor": 2
}
