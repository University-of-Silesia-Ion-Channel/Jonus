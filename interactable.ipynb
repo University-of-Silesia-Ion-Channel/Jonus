{
 "cells": [
  {
   "cell_type": "code",
   "execution_count": 11,
   "metadata": {},
   "outputs": [
    {
     "data": {
      "application/vnd.jupyter.widget-view+json": {
       "model_id": "261b36bd18414934859f9c15867717e0",
       "version_major": 2,
       "version_minor": 0
      },
      "text/plain": [
       "interactive(children=(FloatSlider(value=1.0, description='a', max=10.0, min=0.1), FloatSlider(value=0.5, descr…"
      ]
     },
     "metadata": {},
     "output_type": "display_data"
    },
    {
     "data": {
      "text/plain": [
       "<function monostable_model.ion_channel_model(a=1, closed=(-1, 5000), opened=(1, 2500), D=0.5, delta_t=0.01, records=50000, model_force=<function model_force_square at 0x7fa794b9c680>, random_force=<function random_force_gauss at 0x7fa79c09cfe0>)>"
      ]
     },
     "execution_count": 11,
     "metadata": {},
     "output_type": "execute_result"
    }
   ],
   "source": [
    "from monostable_model import ion_channel_model, model_force_square, random_force_gauss\n",
    "from ipywidgets import interact, FloatSlider, IntSlider, Dropdown, fixed, SelectionSlider\n",
    "\n",
    "\n",
    "interact(\n",
    "    ion_channel_model,\n",
    "    a=FloatSlider(min=0.1, max=10.0, step=0.1, value=1, description='a'),\n",
    "    closed=fixed((-1, 5000)),  # Fixed for now; could be customized further\n",
    "    opened=fixed((1, 2500)),  # Fixed for now; could be customized further\n",
    "    D=FloatSlider(min=0.01, max=3.0, step=0.01, value=0.5, description='D'),\n",
    "    delta_t=SelectionSlider(\n",
    "        options=[10**-i for i in range(1, 4)],\n",
    "        value=0.01,\n",
    "        description='Delta t',\n",
    "        format=\"0.0e\"\n",
    "    ),    records=IntSlider(min=1000, max=100000, step=1000, value=50000, description='Records'),\n",
    "    model_force=Dropdown(\n",
    "        options={'Square Force': model_force_square, 'Other Force': lambda x: x**2},\n",
    "        value=model_force_square,\n",
    "        description='Model Force',\n",
    "    ),\n",
    "    random_force=fixed(random_force_gauss),  # Keep it fixed for simplicity\n",
    ")"
   ]
  },
  {
   "cell_type": "code",
   "execution_count": null,
   "metadata": {},
   "outputs": [],
   "source": []
  }
 ],
 "metadata": {
  "kernelspec": {
   "display_name": "Python 3",
   "language": "python",
   "name": "python3"
  },
  "language_info": {
   "codemirror_mode": {
    "name": "ipython",
    "version": 3
   },
   "file_extension": ".py",
   "mimetype": "text/x-python",
   "name": "python",
   "nbconvert_exporter": "python",
   "pygments_lexer": "ipython3",
   "version": "3.13.0"
  }
 },
 "nbformat": 4,
 "nbformat_minor": 2
}
