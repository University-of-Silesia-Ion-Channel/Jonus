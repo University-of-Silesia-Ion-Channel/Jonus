{
 "cells": [
  {
   "cell_type": "code",
   "execution_count": null,
   "metadata": {},
   "outputs": [
    {
     "name": "stdout",
     "output_type": "stream",
     "text": [
      "['data/normalna_aktywnosc/-20mV/e9.txt']\n",
      "1\n",
      "0\n",
      "1\n"
     ]
    }
   ],
   "source": [
    "from multiprocessing import process\n",
    "import os\n",
    "import glob\n",
    "import matplotlib.pyplot as plt\n",
    "import numpy as np\n",
    "from ion_channel import IonChannel\n",
    "import multiprocessing\n",
    "\n",
    "def worker(file_path, ic : IonChannel, batch_size):\n",
    "    cnt = 0\n",
    "    sum = 0\n",
    "    file_data = []\n",
    "    \n",
    "    with open(file_path) as data_file:\n",
    "        for record in data_file:\n",
    "            if cnt < batch_size:\n",
    "                record = record.strip()\n",
    "                sum += float(record)\n",
    "                cnt += 1\n",
    "            else:\n",
    "                cnt = 0\n",
    "                file_data.append(sum / batch_size)\n",
    "                sum = 0\n",
    "    # Calculate autocorrelation\n",
    "    _ = file_path.split('/')\n",
    "    folder = _[2]\n",
    "    if(not os.path.exists(f\"outputs2/{folder}\")):\n",
    "        os.mkdir(f\"outputs2/{folder}\")\n",
    "    file_name = _[3].split('.')[0]\n",
    "    fig, ax = plt.subplots(1, 2, constrained_layout=True)\n",
    "    fig.set_size_inches(12, 6)\n",
    "    fig, ax[0] = ic.calculate_autocorrelation_acf(file_data, fig, ax[0], lags=100)\n",
    "    fig, ax[1] = ic.calculate_autocorrelation_dfa(file_data, fig, ax[1])\n",
    "    ic.save_figure(fig, folder+'/'+file_name, 'autocorrelation', False)\n",
    "\n",
    "\n",
    "ic = IonChannel()\n",
    "file_pattern = os.path.join(\"data\", \"normalna_aktywnosc\", '*mV', \"*.txt\")\n",
    "files = glob.glob(file_pattern)\n",
    "print(files)\n",
    "batch_size = 1\n",
    "stack = files\n",
    "core_count = multiprocessing.cpu_count()\n",
    "# Process each file\n",
    "while len(stack) != 0:\n",
    "    processes = []\n",
    "    n = len(stack)\n",
    "    print(n)\n",
    "    for i in range(n if n <= core_count else core_count):\n",
    "        print(i)\n",
    "        processes.append(multiprocessing.Process(target=worker, args=(stack.pop(), ic, batch_size)))\n",
    "        processes[i].start()\n",
    "    for i in range(len(processes)):\n",
    "        print(len(processes))\n",
    "        processes[i].join()"
   ]
  },
  {
   "cell_type": "code",
   "execution_count": null,
   "metadata": {},
   "outputs": [
    {
     "data": {
      "text/plain": [
       "array([0.0000e+00, 1.0000e-08, 2.0000e-08, ..., 4.9997e-04, 4.9998e-04,\n",
       "       4.9999e-04])"
      ]
     },
     "execution_count": 3,
     "metadata": {},
     "output_type": "execute_result"
    }
   ],
   "source": [
    "import os\n",
    "import glob\n",
    "import matplotlib.pyplot as plt\n",
    "# from monostable_model import calculate_autocorelation_dfa, calculate_autocorelation_acf\n",
    "import numpy as np\n",
    "from ion_channel import IonChannel\n",
    "ic = IonChannel()\n",
    "# Find all hip files in the data directory\n",
    "file_pattern = os.path.join(\"data\", \"normalna_aktywnosc\", '*mV', \"e*.txt\")\n",
    "files = glob.glob(file_pattern)\n",
    "batch_size = 1\n",
    "# Process each file\n",
    "for file_path in files:\n",
    "    cnt = 0\n",
    "    sum = 0\n",
    "    file_data = []\n",
    "    \n",
    "    with open(file_path) as data_file:\n",
    "        for record in data_file:\n",
    "            if cnt < batch_size:\n",
    "                record = record.strip()\n",
    "                sum += float(record)\n",
    "                cnt += 1\n",
    "            else:\n",
    "                cnt = 0\n",
    "                file_data.append(sum / batch_size)\n",
    "                sum = 0\n",
    "    \n",
    "    # Calculate autocorrelation\n",
    "    _ = file_path.split('/')\n",
    "    folder = _[2]\n",
    "    if(not os.path.exists(f\"outputs/{folder}\")):\n",
    "        os.mkdir(f\"outputs/{folder}\")\n",
    "    file_name = _[3].split('.')[0]\n",
    "    plt.clf()  \n",
    "    plt.figure(figsize=(12,8))\n",
    "    plt.title(folder)\n",
    "    plt.plot(file_data[:20000])\n",
    "    # plt.vlines(x=self.breakpoints, ymin=np.min(self.data_transposed[1]), ymax=np.max(self.data_transposed[1]), color='red', linestyle='--')\n",
    "    plt.xlabel(\"Records\")\n",
    "    plt.ylabel(\"Current [pA]\")\n",
    "    plt.show()"
   ]
  }
 ],
 "metadata": {
  "kernelspec": {
   "display_name": ".venv",
   "language": "python",
   "name": "python3"
  },
  "language_info": {
   "codemirror_mode": {
    "name": "ipython",
    "version": 3
   },
   "file_extension": ".py",
   "mimetype": "text/x-python",
   "name": "python",
   "nbconvert_exporter": "python",
   "pygments_lexer": "ipython3",
   "version": "3.12.3"
  }
 },
 "nbformat": 4,
 "nbformat_minor": 2
}
